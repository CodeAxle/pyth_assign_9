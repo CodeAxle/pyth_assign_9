{
 "cells": [
  {
   "cell_type": "markdown",
   "id": "a8b3cab1",
   "metadata": {},
   "source": [
    "# 1."
   ]
  },
  {
   "cell_type": "code",
   "execution_count": 1,
   "id": "5fe4bf6f",
   "metadata": {},
   "outputs": [],
   "source": [
    "# A relative path refers to the location of a file or directory relative to the current working directory. \n",
    "#  The current working directory is the directory from which the script or program is being executed.\n",
    "    \n",
    "# project/\n",
    "#     *main.py\n",
    "#     *data/\n",
    "#        *input.csv\n",
    "#        *output/\n",
    "\n",
    "# If main.py is being executed from the project directory, and it needs to access input.csv, we can use a \n",
    "#  relative path to refer to input.csv. In this case, the relative path would be data/input.csv. The relative path tells the \n",
    "#  system to look for input.csv within the data directory that is located in the same directory as main.py."
   ]
  },
  {
   "cell_type": "markdown",
   "id": "77d91084",
   "metadata": {},
   "source": [
    "# 2."
   ]
  },
  {
   "cell_type": "code",
   "execution_count": 2,
   "id": "7ebb0075",
   "metadata": {},
   "outputs": [],
   "source": [
    "# An absolute path on most operating systems starts with the root directory. The root directory is the top-level directory \n",
    "#  in a file system hierarchy, from which all other directories and files are organized.\n",
    "\n",
    "# a) Unix:   \n",
    "# On Unix-like systems (such as Linux, macOS), the root directory is represented by a forward slash /. \n",
    "# For example:  /home/user/documents/file.txt, \n",
    "# where /home is the top-level directory containing user directories, and so on.\n",
    "\n",
    "# b) Windows:\n",
    "# On Windows systems, the root directory is typically represented by a drive letter followed by a colon and a backslash,\n",
    "# example:  C:\\Users\\User\\Documents\\file.txt, \n",
    "# where C: represents the drive, and Users\\User\\Documents is the path within that drive."
   ]
  },
  {
   "cell_type": "markdown",
   "id": "8402e438",
   "metadata": {},
   "source": [
    "# 3."
   ]
  },
  {
   "cell_type": "code",
   "execution_count": 3,
   "id": "c4a81ad4",
   "metadata": {},
   "outputs": [],
   "source": [
    "# The functions os.getcwd() and os.chdir() are part of the os module in Python and are used for working with \n",
    "#  directories in the file system.\n",
    "\n",
    "# a) os.getcwd(): This function stands for \"get current working directory.\" It returns a string representing the current\n",
    "#     working directory of the Python script or the process that is executing the script."
   ]
  },
  {
   "cell_type": "code",
   "execution_count": 4,
   "id": "10d818d6",
   "metadata": {},
   "outputs": [
    {
     "name": "stdout",
     "output_type": "stream",
     "text": [
      "Current working directory: C:\\Users\\Anil Jambhulkar\n"
     ]
    }
   ],
   "source": [
    "#Example:\n",
    "import os\n",
    "\n",
    "current_directory = os.getcwd()\n",
    "print(\"Current working directory:\", current_directory)"
   ]
  },
  {
   "cell_type": "code",
   "execution_count": 5,
   "id": "f2999a5e",
   "metadata": {},
   "outputs": [],
   "source": [
    "# b) os.chdir(): This function stands for \"change directory.\" It is used to change the current working directory \n",
    "#     to the specified path. The new directory path must be provided as an argument to the function. "
   ]
  },
  {
   "cell_type": "code",
   "execution_count": 15,
   "id": "399f5d97",
   "metadata": {},
   "outputs": [
    {
     "name": "stdout",
     "output_type": "stream",
     "text": [
      "Current working directory: C:\\Users\\Anil Jambhulkar\\Downloads\n"
     ]
    }
   ],
   "source": [
    "#Example:\n",
    "import os\n",
    "\n",
    "new_directory = r\"C:\\Users\\Anil Jambhulkar\\Downloads\"\n",
    "new_dir = os.chdir(new_directory)\n",
    "print(\"Current working directory:\", os.getcwd())"
   ]
  },
  {
   "cell_type": "markdown",
   "id": "c03cdfb1",
   "metadata": {},
   "source": [
    "# 4."
   ]
  },
  {
   "cell_type": "code",
   "execution_count": 7,
   "id": "be2d95db",
   "metadata": {},
   "outputs": [],
   "source": [
    "# In most operating systems, including Unix-like systems (Linux, macOS) and Windows, the . and .. folders are special\n",
    "#  directories that have specific meanings:\n",
    "\n",
    "# a) . (Dot): The . directory refers to the current directory. In other words, it represents the directory in which \n",
    "#     the command or script is currently executing. For example, if you run a script from /home/user/, the . directory \n",
    "#     would refer to /home/user/.\n",
    "\n",
    "# b) .. (Double Dot): The .. directory refers to the parent directory of the current directory. It allows you to navigate\n",
    "#     one level up in the directory hierarchy. For example, if you are in /home/user/documents/, the .. directory would \n",
    "#     refer to /home/user/.\n",
    "\n",
    "# These directories are commonly used in command-line operations and scripting to navigate and reference directories \n",
    "#  relative to the current location. For instance, you might see commands like cd .. to move up one directory or \n",
    "#     ./script.sh to execute a script located in the current directory."
   ]
  },
  {
   "cell_type": "markdown",
   "id": "73ed997c",
   "metadata": {},
   "source": [
    "# 5."
   ]
  },
  {
   "cell_type": "code",
   "execution_count": 8,
   "id": "aa2505d1",
   "metadata": {},
   "outputs": [],
   "source": [
    "# In the path C:\\bacon\\eggs\\spam.txt:\n",
    "\n",
    "# a) The directory name (dir name) is C:\\bacon\\eggs. This represents the path to the directory containing the file spam.txt.\n",
    "\n",
    "# b) The base name is spam.txt. This is the actual file name, which typically includes the file extension (.txt in this case)."
   ]
  },
  {
   "cell_type": "markdown",
   "id": "3974edfa",
   "metadata": {},
   "source": [
    "# 6."
   ]
  },
  {
   "cell_type": "code",
   "execution_count": 9,
   "id": "4ad079cd",
   "metadata": {},
   "outputs": [],
   "source": [
    "# The three \"mode\" arguments that can be passed to the open() function in Python are:\n",
    "\n",
    "# a) Read Mode ('r'): This mode is used for reading files. It's the default mode if no mode is specified. Attempting to write\n",
    "#     to the file in read mode will result in an error.\n",
    "\n",
    "# b) Write Mode ('w'): This mode is used for writing to files. If the file already exists, it will be overwritten. \n",
    "#  If the file does not exist, a new file will be created. Be cautious, as using write mode will erase the existing\n",
    "#  content of the file.\n",
    "\n",
    "# c) Append Mode ('a'): This mode is used for appending data to the end of a file. If the file does not exist, \n",
    "#  it will be created. However, appending data does not erase the existing content; it simply adds new content at the end \n",
    "#  of the file."
   ]
  },
  {
   "cell_type": "markdown",
   "id": "9bcd29a0",
   "metadata": {},
   "source": [
    "# 7."
   ]
  },
  {
   "cell_type": "code",
   "execution_count": 10,
   "id": "e2773eff",
   "metadata": {},
   "outputs": [],
   "source": [
    "# If an existing file is opened in write mode ('w') using the open() function in Python, the following consequences occur:\n",
    "\n",
    "# a) File Truncation: The contents of the file are truncated, which means all existing data in the file is erased or deleted.\n",
    "\n",
    "# b) New File Creation (if not exist): If the file does not exist, a new file with the specified name will be created.\n",
    "\n",
    "# c)Write Operation: The file is opened for writing, allowing you to write new data into the file. If the file exists, \n",
    "#     any previous data is erased, and the new data is written from the beginning of the file."
   ]
  },
  {
   "cell_type": "markdown",
   "id": "a485540b",
   "metadata": {},
   "source": [
    "# 8."
   ]
  },
  {
   "cell_type": "code",
   "execution_count": 11,
   "id": "f6dbc5f0",
   "metadata": {},
   "outputs": [],
   "source": [
    "# In Python's file handling, read() and readlines() have different behaviors as:\n",
    "\n",
    "# a) read() Method:\n",
    "# i) When we call read() on a file object, it reads the entire contents of the file and returns them as a single string.\n",
    "# ii) If the file is too large, using read() to read the entire file into memory at once can be memory-intensive and may\n",
    "#  not be suitable for large files."
   ]
  },
  {
   "cell_type": "code",
   "execution_count": 16,
   "id": "4f072e10",
   "metadata": {},
   "outputs": [
    {
     "name": "stdout",
     "output_type": "stream",
     "text": [
      "Hello world\n",
      "What a suuny day.\n"
     ]
    }
   ],
   "source": [
    "#example:\n",
    "with open('file.txt', 'r') as file:\n",
    "    content = file.read()\n",
    "    print(content)"
   ]
  },
  {
   "cell_type": "code",
   "execution_count": 17,
   "id": "a7b7188b",
   "metadata": {},
   "outputs": [],
   "source": [
    "# b)readlines() Method:\n",
    "# i) When you call readlines() on a file object, it reads all lines of the file and returns them as a list of strings,\n",
    "#  where each string represents a line of text from the file.\n",
    "# ii) Each string in the list includes the newline character ('\\n') at the end of the line unless the line is the last \n",
    "#  line of the file and does not end with a newline character."
   ]
  },
  {
   "cell_type": "code",
   "execution_count": 18,
   "id": "1ac75d5b",
   "metadata": {},
   "outputs": [
    {
     "name": "stdout",
     "output_type": "stream",
     "text": [
      "['Hello world\\n', 'What a suuny day.']\n"
     ]
    }
   ],
   "source": [
    "#example:\n",
    "with open('file.txt', 'r') as file:\n",
    "    lines = file.readlines()\n",
    "    print(lines)"
   ]
  },
  {
   "cell_type": "markdown",
   "id": "db7c3abd",
   "metadata": {},
   "source": [
    "# 9."
   ]
  },
  {
   "cell_type": "code",
   "execution_count": null,
   "id": "010bbe2e",
   "metadata": {},
   "outputs": [],
   "source": [
    "# A shelf value in Python resembles a dictionary data structure. It is similar to a dictionary because it stores key-value pairs.\n",
    "However, shelf values are typically used with the shelve module in Python, which provides persistent storage of objects \n",
    " using a dictionary-like interface.\n",
    "\n",
    # "Here are some key points about shelf values and how they resemble dictionaries:\n",
    "\n",
    "# Key-Value Pairs: Like dictionaries, shelf values store data in key-value pairs. Each key in the shelf corresponds to a value.\n",
    "\n",
    "# Mutable: Shelf values, like dictionaries, are mutable. You can add, modify, or delete key-value pairs in a shelf.\n",
    "\n",
    "# Persistent Storage: The main difference between a shelf value and a dictionary is that shelf values provide persistent storage. 
     # They are stored in a file on disk, allowing data to be saved between program executions.\n",
    "\n",
    "#Interface Similarity: The shelve module provides a dictionary-like interface to interact with shelf values. You can use methods like 
    # shelve.open(), shelve.close(), shelve.keys(), shelve.values(), shelve.items(), etc., which are similar to dictionary methods like dict.keys(),
    # dict.values(), dict.items(), etc.\n",
    "\n",
    "# Serialization: Shelf values use serialization (pickle) to store Python objects persistently. This allows complex objects, such as lists,
     # dictionaries, and custom classes, to be stored in shelf values."
   ]
  }
 ],
 "metadata": {
  "kernelspec": {
   "display_name": "Python 3 (ipykernel)",
   "language": "python",
   "name": "python3"
  },
  "language_info": {
   "codemirror_mode": {
    "name": "ipython",
    "version": 3
   },
   "file_extension": ".py",
   "mimetype": "text/x-python",
   "name": "python",
   "nbconvert_exporter": "python",
   "pygments_lexer": "ipython3",
   "version": "3.11.5"
  }
 },
 "nbformat": 4,
 "nbformat_minor": 5
}
